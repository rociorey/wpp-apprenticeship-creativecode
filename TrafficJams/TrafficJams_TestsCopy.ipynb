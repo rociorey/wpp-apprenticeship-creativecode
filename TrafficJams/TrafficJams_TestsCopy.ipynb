{
 "cells": [
  {
   "cell_type": "code",
   "execution_count": 81,
   "id": "a4eb8c40",
   "metadata": {},
   "outputs": [],
   "source": [
    "import spotipy\n",
    "import json\n",
    "import webbrowser\n",
    "import pandas as pd"
   ]
  },
  {
   "cell_type": "code",
   "execution_count": 82,
   "id": "4ed8e3eb",
   "metadata": {},
   "outputs": [],
   "source": [
    "# Importing library for spotify\n",
    "\n",
    "import urllib.request\n",
    "import spotipy.util as util"
   ]
  },
  {
   "cell_type": "code",
   "execution_count": 83,
   "id": "765931ad",
   "metadata": {},
   "outputs": [],
   "source": [
    "# Importing geolocation library and getting user's location\n",
    "import geocoder\n",
    "userGeolocation = geocoder.ip('me')\n",
    "#print(userGeolocation.latlng)"
   ]
  },
  {
   "cell_type": "code",
   "execution_count": 84,
   "id": "71d85d49",
   "metadata": {},
   "outputs": [],
   "source": [
    "# open file with keys and set the path to your credentials JSON file\n",
    "credentials = \"SpotifyTokens.json\"\n",
    "with open(credentials, \"r\") as keys:\n",
    "    api_tokens = json.load(keys)\n",
    "    \n",
    "# read the keys and assign each to a variable\n",
    "# A redirect URI, or reply URL, is the location where the authorization server sends the user once the app has been \n",
    "# successfully authorized and granted an authorization code or access token.\n",
    "client_id = api_tokens[\"client_id\"]\n",
    "client_secret = api_tokens[\"client_secret\"]\n",
    "redirectURI = api_tokens[\"redirect\"]\n",
    "username = api_tokens[\"username\"]\n",
    "\n",
    "scope = 'user-read-private user-read-playback-state user-modify-playback-state playlist-modify-public user-read-currently-playing'\n",
    "token = util.prompt_for_user_token(username, scope, client_id=client_id,\n",
    "                           client_secret=client_secret,\n",
    "                           redirect_uri=redirectURI)"
   ]
  },
  {
   "cell_type": "code",
   "execution_count": 85,
   "id": "aab58e4b",
   "metadata": {},
   "outputs": [],
   "source": [
    "trafficKey = api_tokens[\"trafficKey\"]\n",
    "\n",
    "# Getting traffic data from London\n",
    "request = urllib.request.Request(\"http://dev.virtualearth.net/REST/v1/Traffic/Incidents/51,%20-0.489,%2051.686,%200.236?key=\" + trafficKey)\n",
    "response = urllib.request.urlopen(request)"
   ]
  },
  {
   "cell_type": "code",
   "execution_count": 86,
   "id": "913485b8",
   "metadata": {},
   "outputs": [],
   "source": [
    "fullTrafficData = json.loads(response.read())"
   ]
  },
  {
   "cell_type": "code",
   "execution_count": 87,
   "id": "b2baf311",
   "metadata": {},
   "outputs": [],
   "source": [
    "sp = spotipy.Spotify(auth=token)"
   ]
  },
  {
   "cell_type": "code",
   "execution_count": 88,
   "id": "d2b2b04d",
   "metadata": {},
   "outputs": [],
   "source": [
    "amountTrafficCases = fullTrafficData[\"resourceSets\"][0]['estimatedTotal']\n",
    "trafficData = fullTrafficData[\"resourceSets\"][0]['resources']"
   ]
  },
  {
   "cell_type": "code",
   "execution_count": 97,
   "id": "862ac976",
   "metadata": {},
   "outputs": [],
   "source": [
    "congestionDescription = []\n",
    "for x in trafficData:\n",
    "    if x['type'] == 5:\n",
    "        congestionDescription += x['description'].split(\".\")\n",
    "#print(congestionDescription)"
   ]
  },
  {
   "cell_type": "code",
   "execution_count": 98,
   "id": "1441a1c0",
   "metadata": {},
   "outputs": [],
   "source": [
    "severeCongestionCoordinates = []\n",
    "for x in trafficData:\n",
    "    if x['type'] == 5 and x['severity'] == 4:\n",
    "        severeCongestionCoordinates.append(x['point']['coordinates'])\n",
    "#print(severeCongestionCoordinates)"
   ]
  },
  {
   "cell_type": "code",
   "execution_count": 99,
   "id": "df8d1368",
   "metadata": {},
   "outputs": [],
   "source": [
    "# Creating a playlist for each of the traffic jams and naming it with their coordinates\n",
    "\n",
    "for x in range(len(severeCongestionCoordinates)):\n",
    "    playlistCoordinateString = str(severeCongestionCoordinates[x])\n",
    "    \n",
    "    my_playlists = sp.user_playlist_create(user=username, name=playlistCoordinateString, public=True,\n",
    "                                      description=congestionDescription[x])\n",
    "    \n",
    "#print(my_playlists)"
   ]
  },
  {
   "cell_type": "code",
   "execution_count": 100,
   "id": "9fa42d8b",
   "metadata": {},
   "outputs": [],
   "source": [
    "#Hardcoding a coordinate that is in traffic\n",
    "testyUserInTraffic = [51.518559, -0.218466]\n",
    "\n",
    "hardcodedUserStatusInTraffic = False\n",
    "myRealStatusInTraffic = False\n",
    "\n",
    "# for in range loop with a hardcoded lat and long to equate to true\n",
    "# probs need to hardcode the value again in the future if want to test again since live data might change\n",
    "for x in range(len(severeCongestionCoordinates)):\n",
    "    #print(\"I like\", severeCongestionCoordinates[x])\n",
    "    if testyUserInTraffic == severeCongestionCoordinates[x]:\n",
    "        hardcodedUserStatusInTraffic = True\n",
    "\n",
    "#print(hardcodedUserStatusInTraffic)\n",
    "\n",
    "\n",
    "# for in range loop with my real geolocation\n",
    "for x in range(len(severeCongestionCoordinates)):\n",
    "    #print(\"I like\", severeCongestionCoordinates[x])\n",
    "    if userGeolocation.latlng == severeCongestionCoordinates[x]:\n",
    "        myRealStatusInTraffic = True\n",
    "\n",
    "#print(myRealStatusInTraffic)"
   ]
  },
  {
   "cell_type": "code",
   "execution_count": 101,
   "id": "3551ed30",
   "metadata": {},
   "outputs": [
    {
     "name": "stdout",
     "output_type": "stream",
     "text": [
      "Listening to Rock'n'rolles de Chiquillos (Versión Acústica) by Sofia Ellar\n"
     ]
    }
   ],
   "source": [
    "# Making a boolean to check if song is being played or not\n",
    "playingMusic = False\n",
    "\n",
    "my_current_track = sp.current_user_playing_track()\n",
    "#print(current_track['item']['name'])\n",
    "\n",
    "# my_current_track only seems to be of type dict when a song is being played\n",
    "# So if its a dictionary, music is being played\n",
    "if type(my_current_track) is dict:\n",
    "    playingMusic = True\n",
    "\n",
    "# If no song is being played, print \"no song being played\", otherwise print the artis nam and song being played\n",
    "if playingMusic == False:\n",
    "    print (\"No song being played\")\n",
    "else:\n",
    "    print(f\"Listening to {my_current_track['item']['name']} by {my_current_track['item']['album']['artists'][0]['name']}\")\n"
   ]
  },
  {
   "cell_type": "code",
   "execution_count": 102,
   "id": "15c1e816",
   "metadata": {},
   "outputs": [
    {
     "name": "stdout",
     "output_type": "stream",
     "text": [
      "In traffic and playing music\n",
      "{'snapshot_id': 'Myw5NzljNDI5ZmQ0YzY4YmQxMjYzMTg3M2VjN2Q0M2MxY2RiMTc5NDM4'}\n"
     ]
    }
   ],
   "source": [
    "# IMPORTANT NOTE: playlist_add_items expects a lis of uris, not just one, so its needed to include the one track in a list\n",
    "# read more here: https://github.com/spotipy-dev/spotipy/issues/771\n",
    "\n",
    "if hardcodedUserStatusInTraffic == True and playingMusic == True:\n",
    "    print(\"In traffic and playing music\")\n",
    "    \n",
    "    \n",
    "    addingCurrentSong = sp.playlist_add_items(my_playlists['id'], [my_current_track['item']['uri']], position=0)\n",
    "\n",
    "    print(addingCurrentSong)\n"
   ]
  },
  {
   "cell_type": "code",
   "execution_count": 103,
   "id": "f85002c8",
   "metadata": {},
   "outputs": [
    {
     "data": {
      "text/plain": [
       "True"
      ]
     },
     "execution_count": 103,
     "metadata": {},
     "output_type": "execute_result"
    }
   ],
   "source": [
    "# sp.start_playback(deviceID, None, track_selection_list)\n",
    "webbrowser.open(my_playlists['external_urls']['spotify'])"
   ]
  },
  {
   "cell_type": "code",
   "execution_count": null,
   "id": "2352e572",
   "metadata": {},
   "outputs": [],
   "source": []
  }
 ],
 "metadata": {
  "kernelspec": {
   "display_name": "Python 3 (ipykernel)",
   "language": "python",
   "name": "python3"
  },
  "language_info": {
   "codemirror_mode": {
    "name": "ipython",
    "version": 3
   },
   "file_extension": ".py",
   "mimetype": "text/x-python",
   "name": "python",
   "nbconvert_exporter": "python",
   "pygments_lexer": "ipython3",
   "version": "3.11.0"
  }
 },
 "nbformat": 4,
 "nbformat_minor": 5
}
