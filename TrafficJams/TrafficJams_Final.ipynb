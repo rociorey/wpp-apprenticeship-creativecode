{
 "cells": [
  {
   "cell_type": "code",
   "execution_count": 1,
   "id": "a4eb8c40",
   "metadata": {},
   "outputs": [],
   "source": [
    "import spotipy\n",
    "import json\n",
    "import webbrowser\n",
    "import pandas as pd"
   ]
  },
  {
   "cell_type": "code",
   "execution_count": 2,
   "id": "4ed8e3eb",
   "metadata": {},
   "outputs": [],
   "source": [
    "# Importing library for spotify\n",
    "\n",
    "import urllib.request\n",
    "import spotipy.util as util"
   ]
  },
  {
   "cell_type": "code",
   "execution_count": 3,
   "id": "765931ad",
   "metadata": {},
   "outputs": [],
   "source": [
    "# Importing geolocation library and getting user's location\n",
    "import geocoder\n",
    "userGeolocation = geocoder.ip('me')\n",
    "#print(userGeolocation.latlng)"
   ]
  },
  {
   "cell_type": "code",
   "execution_count": 4,
   "id": "71d85d49",
   "metadata": {},
   "outputs": [],
   "source": [
    "# open file with keys and set the path to your credentials JSON file\n",
    "credentials = \"SpotifyTokens.json\"\n",
    "with open(credentials, \"r\") as keys:\n",
    "    api_tokens = json.load(keys)\n",
    "    \n",
    "# read the keys and assign each to a variable\n",
    "# A redirect URI, or reply URL, is the location where the authorization server sends the user once the app has been \n",
    "# successfully authorized and granted an authorization code or access token.\n",
    "client_id = api_tokens[\"client_id\"]\n",
    "client_secret = api_tokens[\"client_secret\"]\n",
    "redirectURI = api_tokens[\"redirect\"]\n",
    "username = api_tokens[\"username\"]\n",
    "\n",
    "scope = 'user-read-private user-read-playback-state user-modify-playback-state playlist-modify-public user-read-currently-playing'\n",
    "token = util.prompt_for_user_token(username, scope, client_id=client_id,\n",
    "                           client_secret=client_secret,\n",
    "                           redirect_uri=redirectURI)"
   ]
  },
  {
   "cell_type": "code",
   "execution_count": 5,
   "id": "aab58e4b",
   "metadata": {},
   "outputs": [],
   "source": [
    "trafficKey = username = api_tokens[\"trafficKey\"]\n",
    "\n",
    "# Getting traffic data from London\n",
    "request = urllib.request.Request(\"http://dev.virtualearth.net/REST/v1/Traffic/Incidents/51,%20-0.489,%2051.686,%200.236?key=\" + trafficKey)\n",
    "response = urllib.request.urlopen(request)"
   ]
  },
  {
   "cell_type": "code",
   "execution_count": 6,
   "id": "913485b8",
   "metadata": {},
   "outputs": [],
   "source": [
    "fullTrafficData = json.loads(response.read())"
   ]
  },
  {
   "cell_type": "code",
   "execution_count": 7,
   "id": "b2baf311",
   "metadata": {},
   "outputs": [],
   "source": [
    "sp = spotipy.Spotify(auth=token)"
   ]
  },
  {
   "cell_type": "code",
   "execution_count": 8,
   "id": "3551ed30",
   "metadata": {},
   "outputs": [
    {
     "name": "stdout",
     "output_type": "stream",
     "text": [
      "No song being played\n"
     ]
    }
   ],
   "source": [
    "# Making a boolean to check if song is being played or not\n",
    "playingMusic = False\n",
    "\n",
    "my_current_track = sp.current_user_playing_track()\n",
    "#print(current_track['item']['name'])\n",
    "\n",
    "# my_current_track only seems to be of type dict when a song is being played\n",
    "# So if its a dictionary, music is being played\n",
    "if type(my_current_track) is dict:\n",
    "    playingMusic = True\n",
    "\n",
    "# If no song is being played, print \"no song being played\", otherwise print the artis nam and song being played\n",
    "if playingMusic == False:\n",
    "    print (\"No song being played\")\n",
    "else:\n",
    "    print(f\"Listening to {my_current_track['item']['name']} by {my_current_track['item']['album']['artists'][0]['name']}\")\n"
   ]
  },
  {
   "cell_type": "code",
   "execution_count": 9,
   "id": "d2b2b04d",
   "metadata": {},
   "outputs": [],
   "source": [
    "amountTrafficCases = fullTrafficData[\"resourceSets\"][0]['estimatedTotal']\n",
    "trafficData = fullTrafficData[\"resourceSets\"][0]['resources']"
   ]
  },
  {
   "cell_type": "code",
   "execution_count": 10,
   "id": "862ac976",
   "metadata": {},
   "outputs": [],
   "source": [
    "congestionDescription = []\n",
    "for x in trafficData:\n",
    "    if x['type'] == 5:\n",
    "        congestionDescription += x['description'].split(\".\")\n",
    "#print(congestionDescription)"
   ]
  },
  {
   "cell_type": "code",
   "execution_count": 11,
   "id": "1441a1c0",
   "metadata": {},
   "outputs": [],
   "source": [
    "severeCongestionCoordinates = []\n",
    "for x in trafficData:\n",
    "    if x['type'] == 5 and x['severity'] == 4:\n",
    "        severeCongestionCoordinates.append(x['point']['coordinates'])\n",
    "#print(severeCongestionCoordinates)"
   ]
  },
  {
   "cell_type": "code",
   "execution_count": 12,
   "id": "6f2f4add",
   "metadata": {},
   "outputs": [
    {
     "ename": "KeyError",
     "evalue": "'title'",
     "output_type": "error",
     "traceback": [
      "\u001b[1;31m---------------------------------------------------------------------------\u001b[0m",
      "\u001b[1;31mKeyError\u001b[0m                                  Traceback (most recent call last)",
      "Cell \u001b[1;32mIn [12], line 7\u001b[0m\n\u001b[0;32m      5\u001b[0m \u001b[38;5;28;01mfor\u001b[39;00m x \u001b[38;5;129;01min\u001b[39;00m trafficData:\n\u001b[0;32m      6\u001b[0m     \u001b[38;5;28;01mif\u001b[39;00m x[\u001b[38;5;124m'\u001b[39m\u001b[38;5;124mtype\u001b[39m\u001b[38;5;124m'\u001b[39m] \u001b[38;5;241m==\u001b[39m \u001b[38;5;241m5\u001b[39m \u001b[38;5;129;01mand\u001b[39;00m x[\u001b[38;5;124m'\u001b[39m\u001b[38;5;124mseverity\u001b[39m\u001b[38;5;124m'\u001b[39m] \u001b[38;5;241m==\u001b[39m \u001b[38;5;241m4\u001b[39m:\n\u001b[1;32m----> 7\u001b[0m         severeCongestionStreets\u001b[38;5;241m.\u001b[39mappend(\u001b[43mx\u001b[49m\u001b[43m[\u001b[49m\u001b[38;5;124;43m'\u001b[39;49m\u001b[38;5;124;43mtitle\u001b[39;49m\u001b[38;5;124;43m'\u001b[39;49m\u001b[43m]\u001b[49m)\n\u001b[0;32m      8\u001b[0m         \u001b[38;5;66;03m#print(x['title'])\u001b[39;00m\n\u001b[0;32m      9\u001b[0m         \u001b[38;5;66;03m#print(severeCongestionStreets)\u001b[39;00m\n",
      "\u001b[1;31mKeyError\u001b[0m: 'title'"
     ]
    }
   ],
   "source": [
    "#Theres an error in the data where one of the current lines does not have a title so its complaining if i print it outside of the loop\n",
    "\n",
    "severeCongestionStreets = []\n",
    "\n",
    "for x in trafficData:\n",
    "    if x['type'] == 5 and x['severity'] == 4:\n",
    "        severeCongestionStreets.append(x['title'])\n",
    "        #print(x['title'])\n",
    "        #print(severeCongestionStreets)\n",
    "    "
   ]
  },
  {
   "cell_type": "code",
   "execution_count": 15,
   "id": "1667d93c",
   "metadata": {},
   "outputs": [],
   "source": [
    "track_results = sp.search(q='stuck', type='track', limit=50)\n",
    "tracks = track_results['tracks']['items']\n",
    "\n",
    "# URI = uniform resource identifier\n",
    "track_selection_list = []\n",
    "track_art = []\n",
    "\n",
    "for song in tracks:\n",
    "    track_selection_list.append(song['uri'])\n",
    "    track_art.append(song['album']['images'][0]['url'])"
   ]
  },
  {
   "cell_type": "code",
   "execution_count": 16,
   "id": "8fabbc47",
   "metadata": {},
   "outputs": [
    {
     "name": "stderr",
     "output_type": "stream",
     "text": [
      "HTTP Error for POST to https://api.spotify.com/v1/users/Apr52wWaQJ83ONQ1iWfzuEpMuja7ZGkxdWG5prGe2QhiVaJa9AXnqNnrPRs_qok0/playlists with Params: {} returned 403 due to You cannot create a playlist for another user.\n"
     ]
    },
    {
     "ename": "SpotifyException",
     "evalue": "http status: 403, code:-1 - https://api.spotify.com/v1/users/Apr52wWaQJ83ONQ1iWfzuEpMuja7ZGkxdWG5prGe2QhiVaJa9AXnqNnrPRs_qok0/playlists:\n You cannot create a playlist for another user., reason: None",
     "output_type": "error",
     "traceback": [
      "\u001b[1;31m---------------------------------------------------------------------------\u001b[0m",
      "\u001b[1;31mHTTPError\u001b[0m                                 Traceback (most recent call last)",
      "File \u001b[1;32m~\\Documents\\WPP Apprenticeship\\Intro to Creative Coding\\CreativeCode\\TrafficJams\\venv\\Lib\\site-packages\\spotipy\\client.py:245\u001b[0m, in \u001b[0;36mSpotify._internal_call\u001b[1;34m(self, method, url, payload, params)\u001b[0m\n\u001b[0;32m    240\u001b[0m response \u001b[38;5;241m=\u001b[39m \u001b[38;5;28mself\u001b[39m\u001b[38;5;241m.\u001b[39m_session\u001b[38;5;241m.\u001b[39mrequest(\n\u001b[0;32m    241\u001b[0m     method, url, headers\u001b[38;5;241m=\u001b[39mheaders, proxies\u001b[38;5;241m=\u001b[39m\u001b[38;5;28mself\u001b[39m\u001b[38;5;241m.\u001b[39mproxies,\n\u001b[0;32m    242\u001b[0m     timeout\u001b[38;5;241m=\u001b[39m\u001b[38;5;28mself\u001b[39m\u001b[38;5;241m.\u001b[39mrequests_timeout, \u001b[38;5;241m*\u001b[39m\u001b[38;5;241m*\u001b[39margs\n\u001b[0;32m    243\u001b[0m )\n\u001b[1;32m--> 245\u001b[0m \u001b[43mresponse\u001b[49m\u001b[38;5;241;43m.\u001b[39;49m\u001b[43mraise_for_status\u001b[49m\u001b[43m(\u001b[49m\u001b[43m)\u001b[49m\n\u001b[0;32m    246\u001b[0m results \u001b[38;5;241m=\u001b[39m response\u001b[38;5;241m.\u001b[39mjson()\n",
      "File \u001b[1;32m~\\Documents\\WPP Apprenticeship\\Intro to Creative Coding\\CreativeCode\\TrafficJams\\venv\\Lib\\site-packages\\requests\\models.py:1021\u001b[0m, in \u001b[0;36mResponse.raise_for_status\u001b[1;34m(self)\u001b[0m\n\u001b[0;32m   1020\u001b[0m \u001b[38;5;28;01mif\u001b[39;00m http_error_msg:\n\u001b[1;32m-> 1021\u001b[0m     \u001b[38;5;28;01mraise\u001b[39;00m HTTPError(http_error_msg, response\u001b[38;5;241m=\u001b[39m\u001b[38;5;28mself\u001b[39m)\n",
      "\u001b[1;31mHTTPError\u001b[0m: 403 Client Error: Forbidden for url: https://api.spotify.com/v1/users/Apr52wWaQJ83ONQ1iWfzuEpMuja7ZGkxdWG5prGe2QhiVaJa9AXnqNnrPRs_qok0/playlists",
      "\nDuring handling of the above exception, another exception occurred:\n",
      "\u001b[1;31mSpotifyException\u001b[0m                          Traceback (most recent call last)",
      "Cell \u001b[1;32mIn [16], line 6\u001b[0m\n\u001b[0;32m      3\u001b[0m \u001b[38;5;28;01mfor\u001b[39;00m x \u001b[38;5;129;01min\u001b[39;00m \u001b[38;5;28mrange\u001b[39m(\u001b[38;5;28mlen\u001b[39m(severeCongestionCoordinates)):\n\u001b[0;32m      4\u001b[0m     playlistCoordinateString \u001b[38;5;241m=\u001b[39m \u001b[38;5;28mstr\u001b[39m(severeCongestionCoordinates[x])\n\u001b[1;32m----> 6\u001b[0m     my_playlists \u001b[38;5;241m=\u001b[39m \u001b[43msp\u001b[49m\u001b[38;5;241;43m.\u001b[39;49m\u001b[43muser_playlist_create\u001b[49m\u001b[43m(\u001b[49m\u001b[43muser\u001b[49m\u001b[38;5;241;43m=\u001b[39;49m\u001b[43musername\u001b[49m\u001b[43m,\u001b[49m\u001b[43m \u001b[49m\u001b[43mname\u001b[49m\u001b[38;5;241;43m=\u001b[39;49m\u001b[43mplaylistCoordinateString\u001b[49m\u001b[43m,\u001b[49m\u001b[43m \u001b[49m\u001b[43mpublic\u001b[49m\u001b[38;5;241;43m=\u001b[39;49m\u001b[38;5;28;43;01mTrue\u001b[39;49;00m\u001b[43m,\u001b[49m\n\u001b[0;32m      7\u001b[0m \u001b[43m                                      \u001b[49m\u001b[43mdescription\u001b[49m\u001b[38;5;241;43m=\u001b[39;49m\u001b[38;5;124;43m\"\u001b[39;49m\u001b[38;5;124;43mPlaylist made where a traffic jam is\u001b[39;49m\u001b[38;5;124;43m\"\u001b[39;49m\u001b[43m)\u001b[49m\n\u001b[0;32m      8\u001b[0m     results \u001b[38;5;241m=\u001b[39m sp\u001b[38;5;241m.\u001b[39muser_playlist_add_tracks(username, my_playlists[\u001b[38;5;124m'\u001b[39m\u001b[38;5;124mid\u001b[39m\u001b[38;5;124m'\u001b[39m], track_selection_list)\n\u001b[0;32m     10\u001b[0m \u001b[38;5;28mprint\u001b[39m(results)\n",
      "File \u001b[1;32m~\\Documents\\WPP Apprenticeship\\Intro to Creative Coding\\CreativeCode\\TrafficJams\\venv\\Lib\\site-packages\\spotipy\\client.py:792\u001b[0m, in \u001b[0;36mSpotify.user_playlist_create\u001b[1;34m(self, user, name, public, collaborative, description)\u001b[0m\n\u001b[0;32m    776\u001b[0m \u001b[38;5;124;03m\"\"\" Creates a playlist for a user\u001b[39;00m\n\u001b[0;32m    777\u001b[0m \n\u001b[0;32m    778\u001b[0m \u001b[38;5;124;03m    Parameters:\u001b[39;00m\n\u001b[1;32m   (...)\u001b[0m\n\u001b[0;32m    783\u001b[0m \u001b[38;5;124;03m        - description - the description of the playlist\u001b[39;00m\n\u001b[0;32m    784\u001b[0m \u001b[38;5;124;03m\"\"\"\u001b[39;00m\n\u001b[0;32m    785\u001b[0m data \u001b[38;5;241m=\u001b[39m {\n\u001b[0;32m    786\u001b[0m     \u001b[38;5;124m\"\u001b[39m\u001b[38;5;124mname\u001b[39m\u001b[38;5;124m\"\u001b[39m: name,\n\u001b[0;32m    787\u001b[0m     \u001b[38;5;124m\"\u001b[39m\u001b[38;5;124mpublic\u001b[39m\u001b[38;5;124m\"\u001b[39m: public,\n\u001b[0;32m    788\u001b[0m     \u001b[38;5;124m\"\u001b[39m\u001b[38;5;124mcollaborative\u001b[39m\u001b[38;5;124m\"\u001b[39m: collaborative,\n\u001b[0;32m    789\u001b[0m     \u001b[38;5;124m\"\u001b[39m\u001b[38;5;124mdescription\u001b[39m\u001b[38;5;124m\"\u001b[39m: description\n\u001b[0;32m    790\u001b[0m }\n\u001b[1;32m--> 792\u001b[0m \u001b[38;5;28;01mreturn\u001b[39;00m \u001b[38;5;28;43mself\u001b[39;49m\u001b[38;5;241;43m.\u001b[39;49m\u001b[43m_post\u001b[49m\u001b[43m(\u001b[49m\u001b[38;5;124;43m\"\u001b[39;49m\u001b[38;5;124;43musers/\u001b[39;49m\u001b[38;5;132;43;01m%s\u001b[39;49;00m\u001b[38;5;124;43m/playlists\u001b[39;49m\u001b[38;5;124;43m\"\u001b[39;49m\u001b[43m \u001b[49m\u001b[38;5;241;43m%\u001b[39;49m\u001b[43m \u001b[49m\u001b[43m(\u001b[49m\u001b[43muser\u001b[49m\u001b[43m,\u001b[49m\u001b[43m)\u001b[49m\u001b[43m,\u001b[49m\u001b[43m \u001b[49m\u001b[43mpayload\u001b[49m\u001b[38;5;241;43m=\u001b[39;49m\u001b[43mdata\u001b[49m\u001b[43m)\u001b[49m\n",
      "File \u001b[1;32m~\\Documents\\WPP Apprenticeship\\Intro to Creative Coding\\CreativeCode\\TrafficJams\\venv\\Lib\\site-packages\\spotipy\\client.py:302\u001b[0m, in \u001b[0;36mSpotify._post\u001b[1;34m(self, url, args, payload, **kwargs)\u001b[0m\n\u001b[0;32m    300\u001b[0m \u001b[38;5;28;01mif\u001b[39;00m args:\n\u001b[0;32m    301\u001b[0m     kwargs\u001b[38;5;241m.\u001b[39mupdate(args)\n\u001b[1;32m--> 302\u001b[0m \u001b[38;5;28;01mreturn\u001b[39;00m \u001b[38;5;28;43mself\u001b[39;49m\u001b[38;5;241;43m.\u001b[39;49m\u001b[43m_internal_call\u001b[49m\u001b[43m(\u001b[49m\u001b[38;5;124;43m\"\u001b[39;49m\u001b[38;5;124;43mPOST\u001b[39;49m\u001b[38;5;124;43m\"\u001b[39;49m\u001b[43m,\u001b[49m\u001b[43m \u001b[49m\u001b[43murl\u001b[49m\u001b[43m,\u001b[49m\u001b[43m \u001b[49m\u001b[43mpayload\u001b[49m\u001b[43m,\u001b[49m\u001b[43m \u001b[49m\u001b[43mkwargs\u001b[49m\u001b[43m)\u001b[49m\n",
      "File \u001b[1;32m~\\Documents\\WPP Apprenticeship\\Intro to Creative Coding\\CreativeCode\\TrafficJams\\venv\\Lib\\site-packages\\spotipy\\client.py:267\u001b[0m, in \u001b[0;36mSpotify._internal_call\u001b[1;34m(self, method, url, payload, params)\u001b[0m\n\u001b[0;32m    260\u001b[0m         reason \u001b[38;5;241m=\u001b[39m \u001b[38;5;28;01mNone\u001b[39;00m\n\u001b[0;32m    262\u001b[0m     logger\u001b[38;5;241m.\u001b[39merror(\n\u001b[0;32m    263\u001b[0m         \u001b[38;5;124m'\u001b[39m\u001b[38;5;124mHTTP Error for \u001b[39m\u001b[38;5;132;01m%s\u001b[39;00m\u001b[38;5;124m to \u001b[39m\u001b[38;5;132;01m%s\u001b[39;00m\u001b[38;5;124m with Params: \u001b[39m\u001b[38;5;132;01m%s\u001b[39;00m\u001b[38;5;124m returned \u001b[39m\u001b[38;5;132;01m%s\u001b[39;00m\u001b[38;5;124m due to \u001b[39m\u001b[38;5;132;01m%s\u001b[39;00m\u001b[38;5;124m'\u001b[39m,\n\u001b[0;32m    264\u001b[0m         method, url, args\u001b[38;5;241m.\u001b[39mget(\u001b[38;5;124m\"\u001b[39m\u001b[38;5;124mparams\u001b[39m\u001b[38;5;124m\"\u001b[39m), response\u001b[38;5;241m.\u001b[39mstatus_code, msg\n\u001b[0;32m    265\u001b[0m     )\n\u001b[1;32m--> 267\u001b[0m     \u001b[38;5;28;01mraise\u001b[39;00m SpotifyException(\n\u001b[0;32m    268\u001b[0m         response\u001b[38;5;241m.\u001b[39mstatus_code,\n\u001b[0;32m    269\u001b[0m         \u001b[38;5;241m-\u001b[39m\u001b[38;5;241m1\u001b[39m,\n\u001b[0;32m    270\u001b[0m         \u001b[38;5;124m\"\u001b[39m\u001b[38;5;132;01m%s\u001b[39;00m\u001b[38;5;124m:\u001b[39m\u001b[38;5;130;01m\\n\u001b[39;00m\u001b[38;5;124m \u001b[39m\u001b[38;5;132;01m%s\u001b[39;00m\u001b[38;5;124m\"\u001b[39m \u001b[38;5;241m%\u001b[39m (response\u001b[38;5;241m.\u001b[39murl, msg),\n\u001b[0;32m    271\u001b[0m         reason\u001b[38;5;241m=\u001b[39mreason,\n\u001b[0;32m    272\u001b[0m         headers\u001b[38;5;241m=\u001b[39mresponse\u001b[38;5;241m.\u001b[39mheaders,\n\u001b[0;32m    273\u001b[0m     )\n\u001b[0;32m    274\u001b[0m \u001b[38;5;28;01mexcept\u001b[39;00m requests\u001b[38;5;241m.\u001b[39mexceptions\u001b[38;5;241m.\u001b[39mRetryError \u001b[38;5;28;01mas\u001b[39;00m retry_error:\n\u001b[0;32m    275\u001b[0m     request \u001b[38;5;241m=\u001b[39m retry_error\u001b[38;5;241m.\u001b[39mrequest\n",
      "\u001b[1;31mSpotifyException\u001b[0m: http status: 403, code:-1 - https://api.spotify.com/v1/users/Apr52wWaQJ83ONQ1iWfzuEpMuja7ZGkxdWG5prGe2QhiVaJa9AXnqNnrPRs_qok0/playlists:\n You cannot create a playlist for another user., reason: None"
     ]
    }
   ],
   "source": [
    "# Trying to create a playlist for each congestion coordinate\n",
    "\n",
    "for x in range(len(severeCongestionCoordinates)):\n",
    "    playlistCoordinateString = str(severeCongestionCoordinates[x])\n",
    "    \n",
    "    my_playlists = sp.user_playlist_create(user=username, name=playlistCoordinateString, public=True,\n",
    "                                      description=\"Playlist made where a traffic jam is\")\n",
    "    results = sp.user_playlist_add_tracks(username, my_playlists['id'], track_selection_list)\n",
    "\n",
    "print(results)"
   ]
  },
  {
   "cell_type": "code",
   "execution_count": 17,
   "id": "9fa42d8b",
   "metadata": {},
   "outputs": [],
   "source": [
    "#Hardcoding a coordinate that is in traffic\n",
    "testyUserInTraffic = [51.518559, -0.218466]\n",
    "\n",
    "hardcodedUserStatusInTraffic = False\n",
    "myRealStatusInTraffic = False\n",
    "\n",
    "# for in range loop with a hardcoded lat and long to equate to true\n",
    "# probs need to hardcode the value again in the future if want to test again since live data might change\n",
    "for x in range(len(severeCongestionCoordinates)):\n",
    "    #print(\"I like\", severeCongestionCoordinates[x])\n",
    "    if testyUserInTraffic == severeCongestionCoordinates[x]:\n",
    "        hardcodedUserStatusInTraffic = True\n",
    "\n",
    "#print(hardcodedUserStatusInTraffic)\n",
    "\n",
    "\n",
    "# for in range loop with my real geolocation\n",
    "for x in range(len(severeCongestionCoordinates)):\n",
    "    #print(\"I like\", severeCongestionCoordinates[x])\n",
    "    if userGeolocation.latlng == severeCongestionCoordinates[x]:\n",
    "        myRealStatusInTraffic = True\n",
    "\n",
    "#print(myRealStatusInTraffic)"
   ]
  },
  {
   "cell_type": "code",
   "execution_count": 18,
   "id": "df8d1368",
   "metadata": {},
   "outputs": [
    {
     "name": "stderr",
     "output_type": "stream",
     "text": [
      "HTTP Error for POST to https://api.spotify.com/v1/users/Apr52wWaQJ83ONQ1iWfzuEpMuja7ZGkxdWG5prGe2QhiVaJa9AXnqNnrPRs_qok0/playlists with Params: {} returned 403 due to You cannot create a playlist for another user.\n"
     ]
    },
    {
     "ename": "SpotifyException",
     "evalue": "http status: 403, code:-1 - https://api.spotify.com/v1/users/Apr52wWaQJ83ONQ1iWfzuEpMuja7ZGkxdWG5prGe2QhiVaJa9AXnqNnrPRs_qok0/playlists:\n You cannot create a playlist for another user., reason: None",
     "output_type": "error",
     "traceback": [
      "\u001b[1;31m---------------------------------------------------------------------------\u001b[0m",
      "\u001b[1;31mHTTPError\u001b[0m                                 Traceback (most recent call last)",
      "File \u001b[1;32m~\\Documents\\WPP Apprenticeship\\Intro to Creative Coding\\CreativeCode\\TrafficJams\\venv\\Lib\\site-packages\\spotipy\\client.py:245\u001b[0m, in \u001b[0;36mSpotify._internal_call\u001b[1;34m(self, method, url, payload, params)\u001b[0m\n\u001b[0;32m    240\u001b[0m response \u001b[38;5;241m=\u001b[39m \u001b[38;5;28mself\u001b[39m\u001b[38;5;241m.\u001b[39m_session\u001b[38;5;241m.\u001b[39mrequest(\n\u001b[0;32m    241\u001b[0m     method, url, headers\u001b[38;5;241m=\u001b[39mheaders, proxies\u001b[38;5;241m=\u001b[39m\u001b[38;5;28mself\u001b[39m\u001b[38;5;241m.\u001b[39mproxies,\n\u001b[0;32m    242\u001b[0m     timeout\u001b[38;5;241m=\u001b[39m\u001b[38;5;28mself\u001b[39m\u001b[38;5;241m.\u001b[39mrequests_timeout, \u001b[38;5;241m*\u001b[39m\u001b[38;5;241m*\u001b[39margs\n\u001b[0;32m    243\u001b[0m )\n\u001b[1;32m--> 245\u001b[0m \u001b[43mresponse\u001b[49m\u001b[38;5;241;43m.\u001b[39;49m\u001b[43mraise_for_status\u001b[49m\u001b[43m(\u001b[49m\u001b[43m)\u001b[49m\n\u001b[0;32m    246\u001b[0m results \u001b[38;5;241m=\u001b[39m response\u001b[38;5;241m.\u001b[39mjson()\n",
      "File \u001b[1;32m~\\Documents\\WPP Apprenticeship\\Intro to Creative Coding\\CreativeCode\\TrafficJams\\venv\\Lib\\site-packages\\requests\\models.py:1021\u001b[0m, in \u001b[0;36mResponse.raise_for_status\u001b[1;34m(self)\u001b[0m\n\u001b[0;32m   1020\u001b[0m \u001b[38;5;28;01mif\u001b[39;00m http_error_msg:\n\u001b[1;32m-> 1021\u001b[0m     \u001b[38;5;28;01mraise\u001b[39;00m HTTPError(http_error_msg, response\u001b[38;5;241m=\u001b[39m\u001b[38;5;28mself\u001b[39m)\n",
      "\u001b[1;31mHTTPError\u001b[0m: 403 Client Error: Forbidden for url: https://api.spotify.com/v1/users/Apr52wWaQJ83ONQ1iWfzuEpMuja7ZGkxdWG5prGe2QhiVaJa9AXnqNnrPRs_qok0/playlists",
      "\nDuring handling of the above exception, another exception occurred:\n",
      "\u001b[1;31mSpotifyException\u001b[0m                          Traceback (most recent call last)",
      "Cell \u001b[1;32mIn [18], line 6\u001b[0m\n\u001b[0;32m      3\u001b[0m \u001b[38;5;28;01mfor\u001b[39;00m x \u001b[38;5;129;01min\u001b[39;00m \u001b[38;5;28mrange\u001b[39m(\u001b[38;5;28mlen\u001b[39m(severeCongestionCoordinates)):\n\u001b[0;32m      4\u001b[0m     playlistCoordinateString \u001b[38;5;241m=\u001b[39m \u001b[38;5;28mstr\u001b[39m(severeCongestionCoordinates[x])\n\u001b[1;32m----> 6\u001b[0m     my_playlists \u001b[38;5;241m=\u001b[39m \u001b[43msp\u001b[49m\u001b[38;5;241;43m.\u001b[39;49m\u001b[43muser_playlist_create\u001b[49m\u001b[43m(\u001b[49m\u001b[43muser\u001b[49m\u001b[38;5;241;43m=\u001b[39;49m\u001b[43musername\u001b[49m\u001b[43m,\u001b[49m\u001b[43m \u001b[49m\u001b[43mname\u001b[49m\u001b[38;5;241;43m=\u001b[39;49m\u001b[43mplaylistCoordinateString\u001b[49m\u001b[43m,\u001b[49m\u001b[43m \u001b[49m\u001b[43mpublic\u001b[49m\u001b[38;5;241;43m=\u001b[39;49m\u001b[38;5;28;43;01mTrue\u001b[39;49;00m\u001b[43m,\u001b[49m\n\u001b[0;32m      7\u001b[0m \u001b[43m                                      \u001b[49m\u001b[43mdescription\u001b[49m\u001b[38;5;241;43m=\u001b[39;49m\u001b[38;5;124;43m\"\u001b[39;49m\u001b[38;5;124;43mPlaylist made where a traffic jam is\u001b[39;49m\u001b[38;5;124;43m\"\u001b[39;49m\u001b[43m)\u001b[49m\n\u001b[0;32m      8\u001b[0m     results \u001b[38;5;241m=\u001b[39m sp\u001b[38;5;241m.\u001b[39muser_playlist_add_tracks(username, my_playlists[\u001b[38;5;124m'\u001b[39m\u001b[38;5;124mid\u001b[39m\u001b[38;5;124m'\u001b[39m], track_selection_list)\n\u001b[0;32m     10\u001b[0m \u001b[38;5;28mprint\u001b[39m(results)\n",
      "File \u001b[1;32m~\\Documents\\WPP Apprenticeship\\Intro to Creative Coding\\CreativeCode\\TrafficJams\\venv\\Lib\\site-packages\\spotipy\\client.py:792\u001b[0m, in \u001b[0;36mSpotify.user_playlist_create\u001b[1;34m(self, user, name, public, collaborative, description)\u001b[0m\n\u001b[0;32m    776\u001b[0m \u001b[38;5;124;03m\"\"\" Creates a playlist for a user\u001b[39;00m\n\u001b[0;32m    777\u001b[0m \n\u001b[0;32m    778\u001b[0m \u001b[38;5;124;03m    Parameters:\u001b[39;00m\n\u001b[1;32m   (...)\u001b[0m\n\u001b[0;32m    783\u001b[0m \u001b[38;5;124;03m        - description - the description of the playlist\u001b[39;00m\n\u001b[0;32m    784\u001b[0m \u001b[38;5;124;03m\"\"\"\u001b[39;00m\n\u001b[0;32m    785\u001b[0m data \u001b[38;5;241m=\u001b[39m {\n\u001b[0;32m    786\u001b[0m     \u001b[38;5;124m\"\u001b[39m\u001b[38;5;124mname\u001b[39m\u001b[38;5;124m\"\u001b[39m: name,\n\u001b[0;32m    787\u001b[0m     \u001b[38;5;124m\"\u001b[39m\u001b[38;5;124mpublic\u001b[39m\u001b[38;5;124m\"\u001b[39m: public,\n\u001b[0;32m    788\u001b[0m     \u001b[38;5;124m\"\u001b[39m\u001b[38;5;124mcollaborative\u001b[39m\u001b[38;5;124m\"\u001b[39m: collaborative,\n\u001b[0;32m    789\u001b[0m     \u001b[38;5;124m\"\u001b[39m\u001b[38;5;124mdescription\u001b[39m\u001b[38;5;124m\"\u001b[39m: description\n\u001b[0;32m    790\u001b[0m }\n\u001b[1;32m--> 792\u001b[0m \u001b[38;5;28;01mreturn\u001b[39;00m \u001b[38;5;28;43mself\u001b[39;49m\u001b[38;5;241;43m.\u001b[39;49m\u001b[43m_post\u001b[49m\u001b[43m(\u001b[49m\u001b[38;5;124;43m\"\u001b[39;49m\u001b[38;5;124;43musers/\u001b[39;49m\u001b[38;5;132;43;01m%s\u001b[39;49;00m\u001b[38;5;124;43m/playlists\u001b[39;49m\u001b[38;5;124;43m\"\u001b[39;49m\u001b[43m \u001b[49m\u001b[38;5;241;43m%\u001b[39;49m\u001b[43m \u001b[49m\u001b[43m(\u001b[49m\u001b[43muser\u001b[49m\u001b[43m,\u001b[49m\u001b[43m)\u001b[49m\u001b[43m,\u001b[49m\u001b[43m \u001b[49m\u001b[43mpayload\u001b[49m\u001b[38;5;241;43m=\u001b[39;49m\u001b[43mdata\u001b[49m\u001b[43m)\u001b[49m\n",
      "File \u001b[1;32m~\\Documents\\WPP Apprenticeship\\Intro to Creative Coding\\CreativeCode\\TrafficJams\\venv\\Lib\\site-packages\\spotipy\\client.py:302\u001b[0m, in \u001b[0;36mSpotify._post\u001b[1;34m(self, url, args, payload, **kwargs)\u001b[0m\n\u001b[0;32m    300\u001b[0m \u001b[38;5;28;01mif\u001b[39;00m args:\n\u001b[0;32m    301\u001b[0m     kwargs\u001b[38;5;241m.\u001b[39mupdate(args)\n\u001b[1;32m--> 302\u001b[0m \u001b[38;5;28;01mreturn\u001b[39;00m \u001b[38;5;28;43mself\u001b[39;49m\u001b[38;5;241;43m.\u001b[39;49m\u001b[43m_internal_call\u001b[49m\u001b[43m(\u001b[49m\u001b[38;5;124;43m\"\u001b[39;49m\u001b[38;5;124;43mPOST\u001b[39;49m\u001b[38;5;124;43m\"\u001b[39;49m\u001b[43m,\u001b[49m\u001b[43m \u001b[49m\u001b[43murl\u001b[49m\u001b[43m,\u001b[49m\u001b[43m \u001b[49m\u001b[43mpayload\u001b[49m\u001b[43m,\u001b[49m\u001b[43m \u001b[49m\u001b[43mkwargs\u001b[49m\u001b[43m)\u001b[49m\n",
      "File \u001b[1;32m~\\Documents\\WPP Apprenticeship\\Intro to Creative Coding\\CreativeCode\\TrafficJams\\venv\\Lib\\site-packages\\spotipy\\client.py:267\u001b[0m, in \u001b[0;36mSpotify._internal_call\u001b[1;34m(self, method, url, payload, params)\u001b[0m\n\u001b[0;32m    260\u001b[0m         reason \u001b[38;5;241m=\u001b[39m \u001b[38;5;28;01mNone\u001b[39;00m\n\u001b[0;32m    262\u001b[0m     logger\u001b[38;5;241m.\u001b[39merror(\n\u001b[0;32m    263\u001b[0m         \u001b[38;5;124m'\u001b[39m\u001b[38;5;124mHTTP Error for \u001b[39m\u001b[38;5;132;01m%s\u001b[39;00m\u001b[38;5;124m to \u001b[39m\u001b[38;5;132;01m%s\u001b[39;00m\u001b[38;5;124m with Params: \u001b[39m\u001b[38;5;132;01m%s\u001b[39;00m\u001b[38;5;124m returned \u001b[39m\u001b[38;5;132;01m%s\u001b[39;00m\u001b[38;5;124m due to \u001b[39m\u001b[38;5;132;01m%s\u001b[39;00m\u001b[38;5;124m'\u001b[39m,\n\u001b[0;32m    264\u001b[0m         method, url, args\u001b[38;5;241m.\u001b[39mget(\u001b[38;5;124m\"\u001b[39m\u001b[38;5;124mparams\u001b[39m\u001b[38;5;124m\"\u001b[39m), response\u001b[38;5;241m.\u001b[39mstatus_code, msg\n\u001b[0;32m    265\u001b[0m     )\n\u001b[1;32m--> 267\u001b[0m     \u001b[38;5;28;01mraise\u001b[39;00m SpotifyException(\n\u001b[0;32m    268\u001b[0m         response\u001b[38;5;241m.\u001b[39mstatus_code,\n\u001b[0;32m    269\u001b[0m         \u001b[38;5;241m-\u001b[39m\u001b[38;5;241m1\u001b[39m,\n\u001b[0;32m    270\u001b[0m         \u001b[38;5;124m\"\u001b[39m\u001b[38;5;132;01m%s\u001b[39;00m\u001b[38;5;124m:\u001b[39m\u001b[38;5;130;01m\\n\u001b[39;00m\u001b[38;5;124m \u001b[39m\u001b[38;5;132;01m%s\u001b[39;00m\u001b[38;5;124m\"\u001b[39m \u001b[38;5;241m%\u001b[39m (response\u001b[38;5;241m.\u001b[39murl, msg),\n\u001b[0;32m    271\u001b[0m         reason\u001b[38;5;241m=\u001b[39mreason,\n\u001b[0;32m    272\u001b[0m         headers\u001b[38;5;241m=\u001b[39mresponse\u001b[38;5;241m.\u001b[39mheaders,\n\u001b[0;32m    273\u001b[0m     )\n\u001b[0;32m    274\u001b[0m \u001b[38;5;28;01mexcept\u001b[39;00m requests\u001b[38;5;241m.\u001b[39mexceptions\u001b[38;5;241m.\u001b[39mRetryError \u001b[38;5;28;01mas\u001b[39;00m retry_error:\n\u001b[0;32m    275\u001b[0m     request \u001b[38;5;241m=\u001b[39m retry_error\u001b[38;5;241m.\u001b[39mrequest\n",
      "\u001b[1;31mSpotifyException\u001b[0m: http status: 403, code:-1 - https://api.spotify.com/v1/users/Apr52wWaQJ83ONQ1iWfzuEpMuja7ZGkxdWG5prGe2QhiVaJa9AXnqNnrPRs_qok0/playlists:\n You cannot create a playlist for another user., reason: None"
     ]
    }
   ],
   "source": [
    "# Creating a playlist for each of the traffic jams with the coordinates names\n",
    "\n",
    "for x in range(len(severeCongestionCoordinates)):\n",
    "    playlistCoordinateString = str(severeCongestionCoordinates[x])\n",
    "    \n",
    "    my_playlists = sp.user_playlist_create(user=username, name=playlistCoordinateString, public=True,\n",
    "                                      description=\"Playlist made where a traffic jam is\")\n",
    "    results = sp.user_playlist_add_tracks(username, my_playlists['id'], track_selection_list)\n",
    "\n",
    "print(results)"
   ]
  },
  {
   "cell_type": "code",
   "execution_count": 40,
   "id": "6211579a",
   "metadata": {},
   "outputs": [
    {
     "name": "stdout",
     "output_type": "stream",
     "text": [
      "{'collaborative': False, 'description': 'Playlist made where a traffic jam is', 'external_urls': {'spotify': 'https://open.spotify.com/playlist/4gdAeXWdUKyW5NFI9t24C2'}, 'followers': {'href': None, 'total': 0}, 'href': 'https://api.spotify.com/v1/playlists/4gdAeXWdUKyW5NFI9t24C2', 'id': '4gdAeXWdUKyW5NFI9t24C2', 'images': [], 'name': '[51.525313, -0.260287]', 'owner': {'display_name': 'Rocio', 'external_urls': {'spotify': 'https://open.spotify.com/user/pinguinarey'}, 'href': 'https://api.spotify.com/v1/users/pinguinarey', 'id': 'pinguinarey', 'type': 'user', 'uri': 'spotify:user:pinguinarey'}, 'primary_color': None, 'public': True, 'snapshot_id': 'MSw0YTg5YmIzOGE1NmM5ZThjZTIyMDA1NzFlZjViYTJmN2NlYzllZGEw', 'tracks': {'href': 'https://api.spotify.com/v1/playlists/4gdAeXWdUKyW5NFI9t24C2/tracks', 'items': [], 'limit': 100, 'next': None, 'offset': 0, 'previous': None, 'total': 0}, 'type': 'playlist', 'uri': 'spotify:playlist:4gdAeXWdUKyW5NFI9t24C2'}\n"
     ]
    }
   ],
   "source": [
    "print(my_playlists)"
   ]
  },
  {
   "cell_type": "code",
   "execution_count": 41,
   "id": "f85002c8",
   "metadata": {},
   "outputs": [
    {
     "data": {
      "text/plain": [
       "True"
      ]
     },
     "execution_count": 41,
     "metadata": {},
     "output_type": "execute_result"
    }
   ],
   "source": [
    "# sp.start_playback(deviceID, None, track_selection_list)\n",
    "webbrowser.open(my_playlists['external_urls']['spotify'])"
   ]
  },
  {
   "cell_type": "code",
   "execution_count": 54,
   "id": "d2dc3017",
   "metadata": {},
   "outputs": [
    {
     "name": "stdout",
     "output_type": "stream",
     "text": [
      "['Tithepit Shaw Lane', 'Tithepit Shaw Lane', 'Philpots Lane', 'Philpots Lane', 'Dalmeny Road', 'Dalmeny Road', 'Summerhouse Lane', 'Summerhouse Lane', 'Mansion House Street', 'Mansion House Street', 'Lime Street', 'Turner Road', 'B272 / Rowan Road', 'B272 / Rowan Road', 'Coldharbour Road', 'Coldharbour Road', 'Ide Hill Road', 'Pretoria Road', 'Pretoria Road', 'Penwortham Road', 'Penwortham Road', 'Broadwater Road', 'Hillbrook Road', \"Wix's Lane\", 'Beclands Road', 'Beclands Road', 'Hungerford Road', \"St George's Way\", 'Lionel Road South', 'Euston Square', 'Lionel Road South', 'B411 / Inverness Place', 'station road', \"Queen's Crescent\", 'Fernleigh Road', 'Fernleigh Road', \"Queen's Road\", 'Whittington Road', 'East Hill Road', 'college road', 'college road', 'East Hill Road', 'Homecroft Gardens', 'Homecroft Gardens', \"Baron's Place\", 'Old Street', 'Lichfield Road', 'Holly Road', 'Holly Road', 'Saint Helens Gardens', 'Mill Lane', 'Mill Lane', \"Parker's Hill\", \"Parker's Hill\", 'Tolworth Road', 'Nightingale Road', 'Clarence Way', 'B504 / Bidborough Street', 'B122 / Arnold Circus', 'Swyncombe Avenue', 'Beehive Ring Road', 'Derwent Grove', 'Roding Lane South', 'Roding Lane South', 'Skinners Lane', 'Skinners Lane', 'Horse Hill', 'Great Guildford Street', 'Leith Hill Road', 'Leith Hill Road', 'Castle Lane', 'Cox Green Road', 'Cox Green Road', 'Tolworth Road', 'B377 / Ashford Road', 'Warwick Way', 'Old Street', 'The Pantiles', 'White Post Street', 'Gordon Road', 'Friary Road', 'Saint Helens Gardens', 'Windsor Road', 'Bianca Road', 'Carlisle Place', 'The Green', \"Saint Leonard's Road\", 'Clarence Way', 'Strand', 'Alfred Place', 'White Post Street', 'Dalmally Road', 'Dalmally Road', 'Windsor Road', 'Elmers Road', 'Elmers Road', 'Tintagel Crescent', 'Tintagel Crescent', 'Conway Road', 'Derwent Grove', 'Stile Hall Gardens', 'Woodthorpe Road', 'Woodthorpe Road', 'Jamestown Road']\n"
     ]
    }
   ],
   "source": []
  },
  {
   "cell_type": "code",
   "execution_count": null,
   "id": "4e60c429",
   "metadata": {},
   "outputs": [],
   "source": []
  }
 ],
 "metadata": {
  "kernelspec": {
   "display_name": "Python 3 (ipykernel)",
   "language": "python",
   "name": "python3"
  },
  "language_info": {
   "codemirror_mode": {
    "name": "ipython",
    "version": 3
   },
   "file_extension": ".py",
   "mimetype": "text/x-python",
   "name": "python",
   "nbconvert_exporter": "python",
   "pygments_lexer": "ipython3",
   "version": "3.11.0"
  }
 },
 "nbformat": 4,
 "nbformat_minor": 5
}
