{
 "cells": [
  {
   "cell_type": "code",
   "execution_count": 1,
   "id": "a4eb8c40",
   "metadata": {},
   "outputs": [],
   "source": [
    "import spotipy\n",
    "import json\n",
    "import webbrowser\n",
    "import pandas as pd"
   ]
  },
  {
   "cell_type": "code",
   "execution_count": 2,
   "id": "4ed8e3eb",
   "metadata": {},
   "outputs": [],
   "source": [
    "# Importing library for spotify\n",
    "\n",
    "import urllib.request\n",
    "import spotipy.util as util"
   ]
  },
  {
   "cell_type": "code",
   "execution_count": 3,
   "id": "765931ad",
   "metadata": {},
   "outputs": [],
   "source": [
    "# Importing geolocation library and getting user's location\n",
    "import geocoder\n",
    "userGeolocation = geocoder.ip('me')\n",
    "#print(userGeolocation.latlng)"
   ]
  },
  {
   "cell_type": "code",
   "execution_count": 4,
   "id": "71d85d49",
   "metadata": {},
   "outputs": [],
   "source": [
    "# open file with keys and set the path to your credentials JSON file\n",
    "credentials = \"SpotifyTokens.json\"\n",
    "with open(credentials, \"r\") as keys:\n",
    "    api_tokens = json.load(keys)\n",
    "    \n",
    "# read the keys and assign each to a variable\n",
    "# A redirect URI, or reply URL, is the location where the authorization server sends the user once the app has been \n",
    "# successfully authorized and granted an authorization code or access token.\n",
    "client_id = api_tokens[\"client_id\"]\n",
    "client_secret = api_tokens[\"client_secret\"]\n",
    "redirectURI = api_tokens[\"redirect\"]\n",
    "username = api_tokens[\"username\"]\n",
    "\n",
    "scope = 'user-read-private user-read-playback-state user-modify-playback-state playlist-modify-public user-read-currently-playing'\n",
    "token = util.prompt_for_user_token(username, scope, client_id=client_id,\n",
    "                           client_secret=client_secret,\n",
    "                           redirect_uri=redirectURI)"
   ]
  },
  {
   "cell_type": "code",
   "execution_count": 5,
   "id": "aab58e4b",
   "metadata": {},
   "outputs": [],
   "source": [
    "trafficKey = api_tokens[\"trafficKey\"]\n",
    "\n",
    "# Getting traffic data from London\n",
    "request = urllib.request.Request(\"http://dev.virtualearth.net/REST/v1/Traffic/Incidents/51,%20-0.489,%2051.686,%200.236?key=\" + trafficKey)\n",
    "response = urllib.request.urlopen(request)"
   ]
  },
  {
   "cell_type": "code",
   "execution_count": 6,
   "id": "913485b8",
   "metadata": {},
   "outputs": [],
   "source": [
    "fullTrafficData = json.loads(response.read())"
   ]
  },
  {
   "cell_type": "code",
   "execution_count": 7,
   "id": "b2baf311",
   "metadata": {},
   "outputs": [],
   "source": [
    "sp = spotipy.Spotify(auth=token)"
   ]
  },
  {
   "cell_type": "code",
   "execution_count": 8,
   "id": "3551ed30",
   "metadata": {},
   "outputs": [
    {
     "name": "stdout",
     "output_type": "stream",
     "text": [
      "No song being played\n"
     ]
    }
   ],
   "source": [
    "# Making a boolean to check if song is being played or not\n",
    "playingMusic = False\n",
    "\n",
    "my_current_track = sp.current_user_playing_track()\n",
    "#print(current_track['item']['name'])\n",
    "\n",
    "# my_current_track only seems to be of type dict when a song is being played\n",
    "# So if its a dictionary, music is being played\n",
    "if type(my_current_track) is dict:\n",
    "    playingMusic = True\n",
    "\n",
    "# If no song is being played, print \"no song being played\", otherwise print the artis nam and song being played\n",
    "if playingMusic == False:\n",
    "    print (\"No song being played\")\n",
    "else:\n",
    "    print(f\"Listening to {my_current_track['item']['name']} by {my_current_track['item']['album']['artists'][0]['name']}\")\n"
   ]
  },
  {
   "cell_type": "code",
   "execution_count": 9,
   "id": "d2b2b04d",
   "metadata": {},
   "outputs": [],
   "source": [
    "amountTrafficCases = fullTrafficData[\"resourceSets\"][0]['estimatedTotal']\n",
    "trafficData = fullTrafficData[\"resourceSets\"][0]['resources']"
   ]
  },
  {
   "cell_type": "code",
   "execution_count": 28,
   "id": "7eca5c6c",
   "metadata": {},
   "outputs": [],
   "source": [
    " #trafficData[3]['type']"
   ]
  },
  {
   "cell_type": "code",
   "execution_count": 29,
   "id": "b1f10c93",
   "metadata": {},
   "outputs": [],
   "source": [
    "#for x in trafficData:\n",
    "#    print(x)\n"
   ]
  },
  {
   "cell_type": "code",
   "execution_count": 30,
   "id": "7867c212",
   "metadata": {},
   "outputs": [],
   "source": [
    "#for x in trafficData:\n",
    "#    print(x['description'])\n"
   ]
  },
  {
   "cell_type": "code",
   "execution_count": 31,
   "id": "dfcdc680",
   "metadata": {},
   "outputs": [],
   "source": [
    "#for x in trafficData:\n",
    "#    if x['type'] == 5:\n",
    "#        print(x['description'])"
   ]
  },
  {
   "cell_type": "code",
   "execution_count": 32,
   "id": "862ac976",
   "metadata": {},
   "outputs": [],
   "source": [
    "congestionDescription = []\n",
    "for x in trafficData:\n",
    "    if x['type'] == 5:\n",
    "        congestionDescription += x['description'].split(\".\")\n",
    "#print(congestionDescription)"
   ]
  },
  {
   "cell_type": "code",
   "execution_count": 33,
   "id": "e970c8a0",
   "metadata": {},
   "outputs": [],
   "source": [
    "#for x in trafficData:\n",
    "#    if x['type'] == 5 and x['severity'] == 4:\n",
    "#        print(x)"
   ]
  },
  {
   "cell_type": "code",
   "execution_count": 34,
   "id": "07aa63bc",
   "metadata": {},
   "outputs": [],
   "source": [
    "# Printing only the description of traffic incidents that are congestions and the most severe\n",
    "\n",
    "#for x in trafficData:\n",
    "#    if x['type'] == 5 and x['severity'] == 4:\n",
    "#        print(x['description'])"
   ]
  },
  {
   "cell_type": "code",
   "execution_count": 35,
   "id": "078fa94c",
   "metadata": {},
   "outputs": [],
   "source": [
    "# Printing all traffic coordinates of traffic incidents that are congestions and the most severe\n",
    "#for x in trafficData:\n",
    "#    if x['type'] == 5 and x['severity'] == 4:\n",
    "#        print(x['point']['coordinates'])"
   ]
  },
  {
   "cell_type": "code",
   "execution_count": 36,
   "id": "59a69c3b",
   "metadata": {},
   "outputs": [],
   "source": [
    "\n",
    "#for x in trafficData:\n",
    "#    if x['type'] == 5 and x['severity'] == 4:\n",
    "#         print(' Coordinate: ' + str(x['point']['coordinates']) + ' Street: ' + x['title'])\n",
    "       "
   ]
  },
  {
   "cell_type": "code",
   "execution_count": 37,
   "id": "4cdfaf12",
   "metadata": {},
   "outputs": [],
   "source": [
    "#for x in trafficData:\n",
    "#    if x['type'] == 5 and x['severity'] == 4:\n",
    "#         print(' Coordinate: ' + str(x['point']['coordinates']) + ' Street: ' + str(x['title']))\n",
    "#        print(x['title'])"
   ]
  },
  {
   "cell_type": "code",
   "execution_count": 38,
   "id": "ef30e960",
   "metadata": {},
   "outputs": [],
   "source": [
    "#coordAndSteet = []\n",
    "#for x in trafficData:\n",
    "#    if x['type'] == 5 and x['severity'] == 4:\n",
    "##         print(' Coordinate: ' + str(x['point']['coordinates']) + ' Street: ' + str(x['title']))\n",
    "#        coordAndSteet.append(' Coordinate: ' + str(x['point']['coordinates']) + ' Street: ' + x['title'])\n",
    "#print(coordAndSteet)"
   ]
  },
  {
   "cell_type": "code",
   "execution_count": 39,
   "id": "1441a1c0",
   "metadata": {},
   "outputs": [],
   "source": [
    "severeCongestionCoordinates = []\n",
    "for x in trafficData:\n",
    "    if x['type'] == 5 and x['severity'] == 4:\n",
    "        severeCongestionCoordinates.append(x['point']['coordinates'])\n",
    "#print(severeCongestionCoordinates)"
   ]
  },
  {
   "cell_type": "code",
   "execution_count": 40,
   "id": "6f2f4add",
   "metadata": {},
   "outputs": [],
   "source": [
    "#severeCongestionStreets = []\n",
    "\n",
    "#for x in trafficData:\n",
    "#    if x['type'] == 5 and x['severity'] == 4:\n",
    "#        severeCongestionStreets.append(x['title'])\n",
    "#        #print(x['title'])\n",
    "#        print(severeCongestionStreets)\n",
    "        \n",
    "## I think theres an error in the data where one of the current lines does not have a title so its complaining if i print it outside of th loop"
   ]
  },
  {
   "cell_type": "code",
   "execution_count": 41,
   "id": "698e570c",
   "metadata": {},
   "outputs": [],
   "source": [
    "#userStatus = False\n",
    "#if userGeolocation.latlng == severeCongestionCoordinates[1]:\n",
    "#   userStatus = True\n",
    "#print(userStatus)\n"
   ]
  },
  {
   "cell_type": "code",
   "execution_count": 42,
   "id": "9fa42d8b",
   "metadata": {},
   "outputs": [],
   "source": [
    "#Hardcoding a coordinate that is in traffic\n",
    "testyUserInTraffic = [51.518559, -0.218466]\n",
    "\n",
    "hardcodedUserStatusInTraffic = False\n",
    "myRealStatusInTraffic = False\n",
    "\n",
    "# for in range loop with a hardcoded lat and long to equate to true\n",
    "# probs need to hardcode the value again in the future if want to test again since live data might change\n",
    "for x in range(len(severeCongestionCoordinates)):\n",
    "    #print(\"I like\", severeCongestionCoordinates[x])\n",
    "    if testyUserInTraffic == severeCongestionCoordinates[x]:\n",
    "        hardcodedUserStatusInTraffic = True\n",
    "\n",
    "#print(hardcodedUserStatusInTraffic)\n",
    "\n",
    "\n",
    "# for in range loop with my real geolocation\n",
    "for x in range(len(severeCongestionCoordinates)):\n",
    "    #print(\"I like\", severeCongestionCoordinates[x])\n",
    "    if userGeolocation.latlng == severeCongestionCoordinates[x]:\n",
    "        myRealStatusInTraffic = True\n",
    "\n",
    "#print(myRealStatusInTraffic)"
   ]
  },
  {
   "cell_type": "code",
   "execution_count": 43,
   "id": "1667d93c",
   "metadata": {},
   "outputs": [],
   "source": [
    "track_results = sp.search(q='stuck', type='track', limit=50)\n",
    "tracks = track_results['tracks']['items']\n",
    "\n",
    "# URI = uniform resource identifier\n",
    "track_selection_list = []\n",
    "track_art = []\n",
    "\n",
    "for song in tracks:\n",
    "    track_selection_list.append(song['uri'])\n",
    "    track_art.append(song['album']['images'][0]['url'])"
   ]
  },
  {
   "cell_type": "code",
   "execution_count": 44,
   "id": "8fabbc47",
   "metadata": {},
   "outputs": [
    {
     "name": "stdout",
     "output_type": "stream",
     "text": [
      "{'snapshot_id': 'Myw3Zjc4YzEzZGIzZTYzODljZGZiZWNiNjE5YzFkZGQ0MmUwZTZhOTY4'}\n"
     ]
    }
   ],
   "source": [
    "# Creating a playlist for each congestion coordinate\n",
    "\n",
    "for x in range(len(severeCongestionCoordinates)):\n",
    "    playlistCoordinateString = str(severeCongestionCoordinates[x])\n",
    "    \n",
    "    my_playlists = sp.user_playlist_create(user=username, name=playlistCoordinateString, public=True,\n",
    "                                      description=\"Playlist made where a traffic jam is\")\n",
    "    results = sp.user_playlist_add_tracks(username, my_playlists['id'], track_selection_list)\n",
    "\n",
    "print(results)"
   ]
  },
  {
   "cell_type": "code",
   "execution_count": 27,
   "id": "df8d1368",
   "metadata": {},
   "outputs": [
    {
     "name": "stdout",
     "output_type": "stream",
     "text": [
      "{'snapshot_id': 'MywyYTNlYjU0OTM3MWFiNmQxYzY2MTRiMWRlNzM3MzYyZjM3OWRiOWIy'}\n"
     ]
    }
   ],
   "source": [
    "# Creating a playlist with the street names instead of the coordinates\n",
    "\n",
    "#for x in range(len(severeCongestionCoordinates)):\n",
    "#    playlistCoordinateString = str(severeCongestionCoordinates[x])\n",
    "    \n",
    "#    my_playlists = sp.user_playlist_create(user=username, name=playlistCoordinateString, public=True,\n",
    "                                      description=\"Playlist made where a traffic jam is\")\n",
    "#    results = sp.user_playlist_add_tracks(username, my_playlists['id'], track_selection_list)\n",
    "\n",
    "#print(results)"
   ]
  },
  {
   "cell_type": "code",
   "execution_count": 40,
   "id": "6211579a",
   "metadata": {},
   "outputs": [
    {
     "name": "stdout",
     "output_type": "stream",
     "text": [
      "{'collaborative': False, 'description': 'Playlist made where a traffic jam is', 'external_urls': {'spotify': 'https://open.spotify.com/playlist/4gdAeXWdUKyW5NFI9t24C2'}, 'followers': {'href': None, 'total': 0}, 'href': 'https://api.spotify.com/v1/playlists/4gdAeXWdUKyW5NFI9t24C2', 'id': '4gdAeXWdUKyW5NFI9t24C2', 'images': [], 'name': '[51.525313, -0.260287]', 'owner': {'display_name': 'Rocio', 'external_urls': {'spotify': 'https://open.spotify.com/user/pinguinarey'}, 'href': 'https://api.spotify.com/v1/users/pinguinarey', 'id': 'pinguinarey', 'type': 'user', 'uri': 'spotify:user:pinguinarey'}, 'primary_color': None, 'public': True, 'snapshot_id': 'MSw0YTg5YmIzOGE1NmM5ZThjZTIyMDA1NzFlZjViYTJmN2NlYzllZGEw', 'tracks': {'href': 'https://api.spotify.com/v1/playlists/4gdAeXWdUKyW5NFI9t24C2/tracks', 'items': [], 'limit': 100, 'next': None, 'offset': 0, 'previous': None, 'total': 0}, 'type': 'playlist', 'uri': 'spotify:playlist:4gdAeXWdUKyW5NFI9t24C2'}\n"
     ]
    }
   ],
   "source": [
    "print(my_playlists)"
   ]
  },
  {
   "cell_type": "code",
   "execution_count": 41,
   "id": "f85002c8",
   "metadata": {},
   "outputs": [
    {
     "data": {
      "text/plain": [
       "True"
      ]
     },
     "execution_count": 41,
     "metadata": {},
     "output_type": "execute_result"
    }
   ],
   "source": [
    "# sp.start_playback(deviceID, None, track_selection_list)\n",
    "webbrowser.open(my_playlists['external_urls']['spotify'])"
   ]
  },
  {
   "cell_type": "code",
   "execution_count": null,
   "id": "4e60c429",
   "metadata": {},
   "outputs": [],
   "source": []
  }
 ],
 "metadata": {
  "kernelspec": {
   "display_name": "Python 3 (ipykernel)",
   "language": "python",
   "name": "python3"
  },
  "language_info": {
   "codemirror_mode": {
    "name": "ipython",
    "version": 3
   },
   "file_extension": ".py",
   "mimetype": "text/x-python",
   "name": "python",
   "nbconvert_exporter": "python",
   "pygments_lexer": "ipython3",
   "version": "3.11.0"
  }
 },
 "nbformat": 4,
 "nbformat_minor": 5
}
